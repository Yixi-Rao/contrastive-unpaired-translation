{
 "cells": [
  {
   "cell_type": "code",
   "execution_count": null,
   "metadata": {},
   "outputs": [],
   "source": [
    "!python train.py --dataroot ./datasets/GTA --name GTA_FastCUT --CUT_mode FastCUT --checkpoints_dir '/content/pytorch-CycleGAN-and-pix2pix/drive/MyDrive/checkpoints' --batch_size 4 --display_freq 300 --print_freq 1000 --save_epoch_freq 20 "
   ]
  }
 ],
 "metadata": {
  "language_info": {
   "name": "python"
  }
 },
 "nbformat": 4,
 "nbformat_minor": 2
}
